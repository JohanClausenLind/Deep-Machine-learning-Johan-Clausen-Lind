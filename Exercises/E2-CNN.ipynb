{
 "cells": [
  {
   "cell_type": "markdown",
   "metadata": {},
   "source": [
    "---\n",
    "# CNN handwriting digit exercise\n",
    "\n",
    "---\n",
    "The number of stars (\\*), (\\*\\*), (\\*\\*\\*) denotes the difficulty level of the task\n",
    "\n",
    "---"
   ]
  },
  {
   "cell_type": "markdown",
   "metadata": {},
   "source": [
    "## 1. MNIST digits dataset (*)\n",
    "\n",
    "\n",
    "&nbsp; a) Start visualizing some of the sample images from keras.datasets.mnist\n",
    "\n",
    "&nbsp; b) Normalize the images to values between 0 and 1 \n",
    "\n",
    "&nbsp; c) Build a Convolutional Neural Network to classify the images.\n",
    "\n",
    "&nbsp; d) Compare the results against a Logistic classifier and/or a KNN.\n",
    "\n",
    "<details>\n",
    "\n",
    "<summary>Hint</summary>\n",
    "A CNN is a stack of Convolutional layers and MaxPooling layers. Suitable filter sizes for three conv-layers are 32, 64 and 128. There should be a MaxPooling2D layer between each. The output layer should be a Dense layer with 10 nodes. The input layer should have shape (28,28,1) for the images. \n",
    "</details>\n",
    "\n",
    "<details>\n",
    "\n",
    "<summary>Answer</summary>\n",
    "<pre>\n",
    "from tensorflow import keras\n",
    "from tensorflow.keras import layers\n",
    "inputs = keras.Input(shape=(28, 28, 1))\n",
    "x = layers.Conv2D(filters=32, kernel_size=3, activation=\"relu\")(inputs)\n",
    "x = layers.MaxPooling2D(pool_size=2)(x)\n",
    "x = layers.Conv2D(filters=64, kernel_size=3, activation=\"relu\")(x)\n",
    "x = layers.MaxPooling2D(pool_size=2)(x)\n",
    "x = layers.Conv2D(filters=128, kernel_size=3, activation=\"relu\")(x)\n",
    "x = layers.Flatten()(x)\n",
    "outputs = layers.Dense(10, activation=\"softmax\")(x)\n",
    "model = keras.Model(inputs=inputs, outputs=outputs)\n",
    "</pre>\n",
    "</details>\n",
    "\n",
    "---"
   ]
  }
 ],
 "metadata": {
  "language_info": {
   "name": "python"
  }
 },
 "nbformat": 4,
 "nbformat_minor": 2
}
