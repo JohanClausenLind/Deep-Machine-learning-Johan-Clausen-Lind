{
 "cells": [
  {
   "cell_type": "code",
   "execution_count": null,
   "metadata": {},
   "outputs": [],
   "source": [
    "import gymnasium as gym\n",
    "import ale_py\n",
    "import tensorflow as tf\n",
    "from tensorflow import keras\n",
    "import numpy as np\n",
    "\n",
    "# Define your custom frame stack or load it from your training script\n",
    "# [Include your CustomFrameStack class here]\n",
    "\n",
    "# Create environment for evaluation\n",
    "env = gym.make(\"SpaceInvadersNoFrameskip-v4\", render_mode=\"human\")\n",
    "env = gym.wrappers.AtariPreprocessing(env, frame_skip=4, screen_size=84, grayscale_obs=True)\n",
    "env = CustomFrameStack(env, 4)\n",
    "\n",
    "# Load your model\n",
    "model = keras.models.load_model(\"path_to_your_downloaded_model.keras\")\n",
    "\n",
    "# Run the model\n",
    "state, _ = env.reset()\n",
    "done = False\n",
    "total_reward = 0\n",
    "\n",
    "while not done:\n",
    "    # Convert state to tensor\n",
    "    state_tensor = tf.convert_to_tensor(state)\n",
    "    state_tensor = tf.expand_dims(state_tensor, 0)\n",
    "    \n",
    "    # Get Q-values and choose best action\n",
    "    q_values = model(state_tensor, training=False)\n",
    "    action = tf.argmax(q_values[0]).numpy()\n",
    "    \n",
    "    # Take action\n",
    "    state, reward, done, truncated, _ = env.step(action)\n",
    "    total_reward += reward\n",
    "    \n",
    "    if done or truncated:\n",
    "        break\n",
    "\n",
    "print(f\"Game finished with total reward: {total_reward}\")"
   ]
  }
 ],
 "metadata": {
  "kernelspec": {
   "display_name": "MLVenv",
   "language": "python",
   "name": "python3"
  },
  "language_info": {
   "name": "python",
   "version": "3.11.11"
  }
 },
 "nbformat": 4,
 "nbformat_minor": 2
}
